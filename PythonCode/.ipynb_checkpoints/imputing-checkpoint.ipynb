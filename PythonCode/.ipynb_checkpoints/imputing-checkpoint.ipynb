{
 "cells": [
  {
   "cell_type": "code",
   "execution_count": 3,
   "metadata": {},
   "outputs": [
    {
     "ename": "ImportError",
     "evalue": "No module named fancyimpute",
     "output_type": "error",
     "traceback": [
      "\u001b[0;31m---------------------------------------------------------------------------\u001b[0m",
      "\u001b[0;31mImportError\u001b[0m                               Traceback (most recent call last)",
      "\u001b[0;32m<ipython-input-3-9c94bd4ba5fe>\u001b[0m in \u001b[0;36m<module>\u001b[0;34m()\u001b[0m\n\u001b[1;32m      1\u001b[0m \u001b[0;32mimport\u001b[0m \u001b[0mpandas\u001b[0m \u001b[0;32mas\u001b[0m \u001b[0mpd\u001b[0m\u001b[0;34m\u001b[0m\u001b[0m\n\u001b[0;32m----> 2\u001b[0;31m \u001b[0;32mfrom\u001b[0m \u001b[0mfancyimpute\u001b[0m \u001b[0;32mimport\u001b[0m \u001b[0mBiScaler\u001b[0m\u001b[0;34m,\u001b[0m \u001b[0mKNN\u001b[0m\u001b[0;34m,\u001b[0m \u001b[0mNuclearNormMinimization\u001b[0m\u001b[0;34m,\u001b[0m \u001b[0mSoftImpute\u001b[0m\u001b[0;34m\u001b[0m\u001b[0m\n\u001b[0m\u001b[1;32m      3\u001b[0m \u001b[0;31m# import knnimpute\u001b[0m\u001b[0;34m\u001b[0m\u001b[0;34m\u001b[0m\u001b[0m\n\u001b[1;32m      4\u001b[0m \u001b[0;34m\u001b[0m\u001b[0m\n\u001b[1;32m      5\u001b[0m \u001b[0mdataset_path\u001b[0m \u001b[0;34m=\u001b[0m \u001b[0;34m'../intermediate_datafiles/'\u001b[0m\u001b[0;34m\u001b[0m\u001b[0m\n",
      "\u001b[0;31mImportError\u001b[0m: No module named fancyimpute"
     ]
    }
   ],
   "source": [
    "import pandas as pd\n",
    "from fancyimpute import BiScaler, KNN, NuclearNormMinimization, SoftImpute\n",
    "# import knnimpute\n",
    "\n",
    "dataset_path = '../intermediate_datafiles/'\n",
    "dataset = pd.read_csv(dataset_path + 'chapter3_result_outliers.csv', index_col=0)\n",
    "print(list(dataset))\n",
    "dataset = dataset[['hr_watch_rate','acc_watch_x', 'acc_watch_y']]\n",
    "print(list(dataset))\n",
    "dataset.index = dataset.index.to_datetime()\n",
    "\n",
    "# Computer the number of milliseconds covered by an instane based on the first two rows\n",
    "milliseconds_per_instance = (dataset.index[1] - dataset.index[0]).microseconds/1000\n",
    "\n",
    "# Step 2: Let us impute the missing values.\n",
    "\n",
    "# MisVal = ImputationMissingValues()\n",
    "# imputed_mean_dataset = MisVal.impute_mean(copy.deepcopy(dataset), 'hr_watch_rate')\n",
    "# imputed_median_dataset = MisVal.impute_median(copy.deepcopy(dataset), 'hr_watch_rate')\n",
    "# imputed_interpolation_dataset = MisVal.impute_interpolate(copy.deepcopy(dataset), 'hr_watch_rate')\n",
    "# DataViz.plot_imputed_values(dataset, ['original', 'mean', 'interpolation'], 'hr_watch_rate', imputed_mean_dataset['hr_watch_rate'], imputed_interpolation_dataset['hr_watch_rate'])\n",
    "\n",
    "\n",
    "\n",
    "\n",
    "\n",
    "\n",
    "X_incomplete = dataset\n",
    "# print(list(X_incomplete))\n",
    "# # X is the complete data matrix\n",
    "# # X_incomplete has the same values as X except a subset have been replace with NaN\n",
    "#\n",
    "# # Use 3 nearest rows which have a feature to fill in each row's missing features\n",
    "X_filled_knn = KNN(k=3).complete(X_incomplete)\n",
    "\n",
    "DataViz.plot_imputed_values(dataset, ['original', 'imputed'], 'hr_watch_rate', X_filled_knn)\n",
    "\n",
    "\n",
    "# # matrix completion using convex optimization to find low-rank solution\n",
    "# # that still matches observed values. Slow!\n",
    "# X_filled_nnm = NuclearNormMinimization().complete(X_incomplete)\n",
    "#\n",
    "# # Instead of solving the nuclear norm objective directly, instead\n",
    "# # induce sparsity using singular value thresholding\n",
    "# X_filled_softimpute = SoftImpute().complete(X_incomplete_normalized)\n",
    "#\n",
    "# # print mean squared error for the three imputation methods above\n",
    "# nnm_mse = ((X_filled_nnm[missing_mask] - X[missing_mask]) ** 2).mean()\n",
    "# print(\"Nuclear norm minimization MSE: %f\" % nnm_mse)\n",
    "#\n",
    "# softImpute_mse = ((X_filled_softimpute[missing_mask] - X[missing_mask]) ** 2).mean()\n",
    "# print(\"SoftImpute MSE: %f\" % softImpute_mse)\n",
    "#\n",
    "# knn_mse = ((X_filled_knn[missing_mask] - X[missing_mask]) ** 2).mean()\n",
    "# print(\"knnImpute MSE: %f\" % knn_mse)\n",
    "\n",
    "\n",
    "exit(0)"
   ]
  },
  {
   "cell_type": "code",
   "execution_count": null,
   "metadata": {
    "collapsed": true
   },
   "outputs": [],
   "source": []
  },
  {
   "cell_type": "code",
   "execution_count": null,
   "metadata": {
    "collapsed": true
   },
   "outputs": [],
   "source": []
  }
 ],
 "metadata": {
  "kernelspec": {
   "display_name": "Python 2",
   "language": "python",
   "name": "python2"
  },
  "language_info": {
   "codemirror_mode": {
    "name": "ipython",
    "version": 2
   },
   "file_extension": ".py",
   "mimetype": "text/x-python",
   "name": "python",
   "nbconvert_exporter": "python",
   "pygments_lexer": "ipython2",
   "version": "2.7.13"
  }
 },
 "nbformat": 4,
 "nbformat_minor": 2
}
